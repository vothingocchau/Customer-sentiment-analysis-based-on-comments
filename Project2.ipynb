{
 "cells": [
  {
   "cell_type": "markdown",
   "id": "07384cbe-36ba-48f1-a9a6-a3b1fad5266b",
   "metadata": {},
   "source": [
    "# 4. TRAINING MODEL"
   ]
  },
  {
   "cell_type": "code",
   "execution_count": 1,
   "id": "93920522-e088-4ef3-9cc4-08405bedad6a",
   "metadata": {},
   "outputs": [],
   "source": [
    "import numpy as np\n",
    "import pandas as pd\n",
    "import matplotlib.pyplot as plt\n",
    "import seaborn as sns\n",
    "import pickle\n",
    "import time\n",
    "\n",
    "from sklearn.feature_extraction.text import TfidfVectorizer\n",
    "from sklearn.linear_model import LogisticRegression\n",
    "from sklearn.naive_bayes import MultinomialNB\n",
    "from sklearn.svm import SVC\n",
    "from sklearn.ensemble import RandomForestClassifier\n",
    "from sklearn.neighbors import KNeighborsClassifier\n",
    "\n",
    "from sklearn.model_selection import train_test_split, cross_validate, cross_val_score, StratifiedKFold, GridSearchCV\n",
    "from sklearn.metrics import f1_score, recall_score, roc_auc_score, accuracy_score, average_precision_score, confusion_matrix, ConfusionMatrixDisplay"
   ]
  },
  {
   "cell_type": "code",
   "execution_count": 2,
   "id": "92bb09ff-d25d-4fd5-a05d-cdb4dbb5bd5a",
   "metadata": {},
   "outputs": [],
   "source": [
    "df = pd.read_csv('./data_files/shopee_final.csv')"
   ]
  },
  {
   "cell_type": "code",
   "execution_count": 3,
   "id": "42a2ec14-ece8-4ed1-b69e-27d79018dc76",
   "metadata": {},
   "outputs": [
    {
     "data": {
      "text/html": [
       "<div>\n",
       "<style scoped>\n",
       "    .dataframe tbody tr th:only-of-type {\n",
       "        vertical-align: middle;\n",
       "    }\n",
       "\n",
       "    .dataframe tbody tr th {\n",
       "        vertical-align: top;\n",
       "    }\n",
       "\n",
       "    .dataframe thead th {\n",
       "        text-align: right;\n",
       "    }\n",
       "</style>\n",
       "<table border=\"1\" class=\"dataframe\">\n",
       "  <thead>\n",
       "    <tr style=\"text-align: right;\">\n",
       "      <th></th>\n",
       "      <th>processed_comment</th>\n",
       "      <th>class</th>\n",
       "    </tr>\n",
       "  </thead>\n",
       "  <tbody>\n",
       "    <tr>\n",
       "      <th>0</th>\n",
       "      <td>đặt hôm_qua nay hàng đồng_hồ siêu_đẹp chất_lượ...</td>\n",
       "      <td>1</td>\n",
       "    </tr>\n",
       "    <tr>\n",
       "      <th>1</th>\n",
       "      <td>sản_phẩm chính hãng phiếu bảo_hành tem chống g...</td>\n",
       "      <td>1</td>\n",
       "    </tr>\n",
       "    <tr>\n",
       "      <th>2</th>\n",
       "      <td>xuất_sắc shop confirm đóng_gói hàng nhanh kiểu...</td>\n",
       "      <td>1</td>\n",
       "    </tr>\n",
       "    <tr>\n",
       "      <th>3</th>\n",
       "      <td>săn sale giá hời_áp xu quá rẻ đầy_đủ tem chống...</td>\n",
       "      <td>1</td>\n",
       "    </tr>\n",
       "    <tr>\n",
       "      <th>4</th>\n",
       "      <td>đồng_hồ siêu_đẹp giao hàng siêu nhanh shop qua...</td>\n",
       "      <td>1</td>\n",
       "    </tr>\n",
       "  </tbody>\n",
       "</table>\n",
       "</div>"
      ],
      "text/plain": [
       "                                   processed_comment  class\n",
       "0  đặt hôm_qua nay hàng đồng_hồ siêu_đẹp chất_lượ...      1\n",
       "1  sản_phẩm chính hãng phiếu bảo_hành tem chống g...      1\n",
       "2  xuất_sắc shop confirm đóng_gói hàng nhanh kiểu...      1\n",
       "3  săn sale giá hời_áp xu quá rẻ đầy_đủ tem chống...      1\n",
       "4  đồng_hồ siêu_đẹp giao hàng siêu nhanh shop qua...      1"
      ]
     },
     "execution_count": 3,
     "metadata": {},
     "output_type": "execute_result"
    }
   ],
   "source": [
    "df['class'] = df['class'].apply(lambda x: 0 if x == 'neg' else 1 )\n",
    "df.head()"
   ]
  },
  {
   "cell_type": "code",
   "execution_count": 4,
   "id": "19f74795-26ce-4d8b-a59e-57e7efb6764e",
   "metadata": {},
   "outputs": [
    {
     "data": {
      "text/plain": [
       "(289033, 2)"
      ]
     },
     "execution_count": 4,
     "metadata": {},
     "output_type": "execute_result"
    }
   ],
   "source": [
    "df.shape"
   ]
  },
  {
   "cell_type": "code",
   "execution_count": 5,
   "id": "8505e18d-c551-48fe-94c0-ea6d6c1059f3",
   "metadata": {},
   "outputs": [
    {
     "data": {
      "text/plain": [
       "class\n",
       "1    266486\n",
       "0     22547\n",
       "Name: count, dtype: int64"
      ]
     },
     "execution_count": 5,
     "metadata": {},
     "output_type": "execute_result"
    }
   ],
   "source": [
    "df['class'].value_counts()"
   ]
  },
  {
   "cell_type": "markdown",
   "id": "e4050206-2b86-433a-93ad-79e2092aa62c",
   "metadata": {},
   "source": [
    "# Train test split\n",
    "Ta thấy rằng giữa hai nhóm positive và negative có chênh lệnh lớn, nên tập train data của ta sẽ bằng:\n",
    "\n",
    "min(size(positive)) * 0.8, size(negative) * 0.2"
   ]
  },
  {
   "cell_type": "code",
   "execution_count": 6,
   "id": "c8dc72d9-2d09-49f4-9de3-0c432085d99c",
   "metadata": {},
   "outputs": [
    {
     "data": {
      "text/plain": [
       "22547"
      ]
     },
     "execution_count": 6,
     "metadata": {},
     "output_type": "execute_result"
    }
   ],
   "source": [
    "half_min_size = min(df['class'].value_counts())\n",
    "half_min_size"
   ]
  },
  {
   "cell_type": "code",
   "execution_count": 7,
   "id": "3af5dcef-51dd-4ee0-a1cb-b75a9a117d32",
   "metadata": {},
   "outputs": [],
   "source": [
    "from sklearn.utils import shuffle\n",
    "import random"
   ]
  },
  {
   "cell_type": "code",
   "execution_count": 8,
   "id": "57851756-9428-406e-b6f5-17592462d85e",
   "metadata": {},
   "outputs": [],
   "source": [
    "df_pos = df[df['class'] == 1]\n",
    "df_neg = df[df['class'] == 0]\n",
    "\n",
    "# Trộn dữ liệu của tập positive\n",
    "df_pos = shuffle(df_pos)\n",
    "df_pos = df_pos.reset_index(drop=True)"
   ]
  },
  {
   "cell_type": "code",
   "execution_count": 9,
   "id": "505ed246-4388-47ab-bc35-dc6d376d47c1",
   "metadata": {},
   "outputs": [
    {
     "data": {
      "text/plain": [
       "[43150, 248460, 7545, 117091, 139478, 10193, 226721, 235207, 256519, 225669]"
      ]
     },
     "execution_count": 9,
     "metadata": {},
     "output_type": "execute_result"
    }
   ],
   "source": [
    "# Lấy index phần dữ liệu của tập Positive bằng với tập Negative\n",
    "positive_index = random.sample(range(0, df_pos.shape[0]), half_min_size)\n",
    "positive_index[:10]"
   ]
  },
  {
   "cell_type": "code",
   "execution_count": 10,
   "id": "0b8d1219-f77a-4ebc-bd1d-8f5132cfe35d",
   "metadata": {},
   "outputs": [
    {
     "data": {
      "text/html": [
       "<div>\n",
       "<style scoped>\n",
       "    .dataframe tbody tr th:only-of-type {\n",
       "        vertical-align: middle;\n",
       "    }\n",
       "\n",
       "    .dataframe tbody tr th {\n",
       "        vertical-align: top;\n",
       "    }\n",
       "\n",
       "    .dataframe thead th {\n",
       "        text-align: right;\n",
       "    }\n",
       "</style>\n",
       "<table border=\"1\" class=\"dataframe\">\n",
       "  <thead>\n",
       "    <tr style=\"text-align: right;\">\n",
       "      <th></th>\n",
       "      <th>processed_comment</th>\n",
       "      <th>class</th>\n",
       "    </tr>\n",
       "  </thead>\n",
       "  <tbody>\n",
       "    <tr>\n",
       "      <th>43150</th>\n",
       "      <td>đẹp nhức nách êm_bền đôi mẹ tuyệt_vời mẹ màu</td>\n",
       "      <td>1</td>\n",
       "    </tr>\n",
       "    <tr>\n",
       "      <th>248460</th>\n",
       "      <td>tất rất đẹp giao hàng nhanh đóng_gói chắc_chắn...</td>\n",
       "      <td>1</td>\n",
       "    </tr>\n",
       "    <tr>\n",
       "      <th>7545</th>\n",
       "      <td>giá tiền quá ok shop giao hàng nhanh thân_thiện</td>\n",
       "      <td>1</td>\n",
       "    </tr>\n",
       "    <tr>\n",
       "      <th>117091</th>\n",
       "      <td>kẹp vừa chắc_chắn màu xinh_dễ dùng giá rẻ hơn ...</td>\n",
       "      <td>1</td>\n",
       "    </tr>\n",
       "    <tr>\n",
       "      <th>139478</th>\n",
       "      <td>khuyên bạn nên cửa_hàng giao hàng rất nhanh tấ...</td>\n",
       "      <td>1</td>\n",
       "    </tr>\n",
       "  </tbody>\n",
       "</table>\n",
       "</div>"
      ],
      "text/plain": [
       "                                        processed_comment  class\n",
       "43150        đẹp nhức nách êm_bền đôi mẹ tuyệt_vời mẹ màu      1\n",
       "248460  tất rất đẹp giao hàng nhanh đóng_gói chắc_chắn...      1\n",
       "7545      giá tiền quá ok shop giao hàng nhanh thân_thiện      1\n",
       "117091  kẹp vừa chắc_chắn màu xinh_dễ dùng giá rẻ hơn ...      1\n",
       "139478  khuyên bạn nên cửa_hàng giao hàng rất nhanh tấ...      1"
      ]
     },
     "execution_count": 10,
     "metadata": {},
     "output_type": "execute_result"
    }
   ],
   "source": [
    "df_pos2 = df_pos.iloc[positive_index,:]\n",
    "df_pos2.head()"
   ]
  },
  {
   "cell_type": "code",
   "execution_count": 11,
   "id": "a0daba19-0e00-4878-b41a-b56439b7f87f",
   "metadata": {},
   "outputs": [
    {
     "data": {
      "text/plain": [
       "(45094, 2)"
      ]
     },
     "execution_count": 11,
     "metadata": {},
     "output_type": "execute_result"
    }
   ],
   "source": [
    "# Kết hợp tập positive đã được chia và tập negative lại với nhau\n",
    "df1 = pd.concat([df_neg, df_pos2], axis=0)\n",
    "df1 = (shuffle(df1)).reset_index(drop=True)\n",
    "df1.shape"
   ]
  },
  {
   "cell_type": "code",
   "execution_count": 12,
   "id": "10899abd-5b23-41e6-abe0-897012a9f727",
   "metadata": {},
   "outputs": [
    {
     "data": {
      "text/html": [
       "<div>\n",
       "<style scoped>\n",
       "    .dataframe tbody tr th:only-of-type {\n",
       "        vertical-align: middle;\n",
       "    }\n",
       "\n",
       "    .dataframe tbody tr th {\n",
       "        vertical-align: top;\n",
       "    }\n",
       "\n",
       "    .dataframe thead th {\n",
       "        text-align: right;\n",
       "    }\n",
       "</style>\n",
       "<table border=\"1\" class=\"dataframe\">\n",
       "  <thead>\n",
       "    <tr style=\"text-align: right;\">\n",
       "      <th></th>\n",
       "      <th>processed_comment</th>\n",
       "      <th>class</th>\n",
       "    </tr>\n",
       "  </thead>\n",
       "  <tbody>\n",
       "    <tr>\n",
       "      <th>0</th>\n",
       "      <td>mua lan shop qua uy_tin san_pham tot shop</td>\n",
       "      <td>1</td>\n",
       "    </tr>\n",
       "    <tr>\n",
       "      <th>1</th>\n",
       "      <td>nhận hàng giống mô_tả cả nhà mua giờ mua nên k...</td>\n",
       "      <td>1</td>\n",
       "    </tr>\n",
       "    <tr>\n",
       "      <th>2</th>\n",
       "      <td>bây bây_đứt mang cf đúng một tý sáng ngày đầu_...</td>\n",
       "      <td>0</td>\n",
       "    </tr>\n",
       "    <tr>\n",
       "      <th>3</th>\n",
       "      <td>áo đẹp mẫu_mã ok_dáng rộng mặc ôm pải sửa</td>\n",
       "      <td>1</td>\n",
       "    </tr>\n",
       "    <tr>\n",
       "      <th>4</th>\n",
       "      <td>vải mỏng nhẹ lớp lót xột xạt không im lắm mua ...</td>\n",
       "      <td>0</td>\n",
       "    </tr>\n",
       "  </tbody>\n",
       "</table>\n",
       "</div>"
      ],
      "text/plain": [
       "                                   processed_comment  class\n",
       "0          mua lan shop qua uy_tin san_pham tot shop      1\n",
       "1  nhận hàng giống mô_tả cả nhà mua giờ mua nên k...      1\n",
       "2  bây bây_đứt mang cf đúng một tý sáng ngày đầu_...      0\n",
       "3          áo đẹp mẫu_mã ok_dáng rộng mặc ôm pải sửa      1\n",
       "4  vải mỏng nhẹ lớp lót xột xạt không im lắm mua ...      0"
      ]
     },
     "execution_count": 12,
     "metadata": {},
     "output_type": "execute_result"
    }
   ],
   "source": [
    "df1.head()"
   ]
  },
  {
   "cell_type": "code",
   "execution_count": 13,
   "id": "1eaba3e7-8328-430f-9837-854dc9cfd94f",
   "metadata": {},
   "outputs": [],
   "source": [
    "# Ghi ra file\n",
    "df1.to_csv(\"./data_files/train_comments.csv\", index=False)"
   ]
  },
  {
   "cell_type": "code",
   "execution_count": 14,
   "id": "ec80675c-4d66-48d2-9178-6d1efb146e4b",
   "metadata": {},
   "outputs": [
    {
     "data": {
      "text/plain": [
       "114797                         đẹp to giao tới nhìn bẩn lắm\n",
       "257915    da mềm trắng_túi nhỏ xinh vừa túi_tiền giao hà...\n",
       "111243    ổn đúng ổn đẹp keo chắc rớt charm_hơi buồn giá...\n",
       "244021    ví da chất_lượng gí rẻ ví xịn nên mua đóng_gói...\n",
       "31424     đen đúng ok giày giá rẻ mang ôm chân rất thích...\n",
       "                                ...                        \n",
       "119879                                  giao đủ hài_lòng ok\n",
       "259178                 đúng đen hàng giao tết chất_lượng ổn\n",
       "131932    săn giá ok bộ_đồ khá ổn vải chắc không thấm hú...\n",
       "146867    sản_phẩm hình chất_lượng mặc thoải_mái giao hà...\n",
       "121958                                  ủa m thằng chủ shop\n",
       "Name: processed_comment, Length: 231226, dtype: object"
      ]
     },
     "metadata": {},
     "output_type": "display_data"
    },
    {
     "data": {
      "text/plain": [
       "114797    1\n",
       "257915    1\n",
       "111243    0\n",
       "244021    1\n",
       "31424     1\n",
       "         ..\n",
       "119879    1\n",
       "259178    1\n",
       "131932    1\n",
       "146867    1\n",
       "121958    0\n",
       "Name: class, Length: 231226, dtype: int64"
      ]
     },
     "metadata": {},
     "output_type": "display_data"
    }
   ],
   "source": [
    "X = df1['processed_comment']\n",
    "y = df1['class']\n",
    "X_train, X_test, y_train, y_test = train_test_split(X, y, test_size=0.2, random_state=42)\n",
    "\n",
    "display(X_train, y_train)"
   ]
  },
  {
   "cell_type": "markdown",
   "id": "c064fbc9-3bd4-4dab-ba6c-f97ae414aa92",
   "metadata": {},
   "source": [
    "# Bag of Words Vectorizer"
   ]
  },
  {
   "cell_type": "code",
   "execution_count": 16,
   "id": "00c9f896-451d-4612-a171-19767a9d7a90",
   "metadata": {},
   "outputs": [
    {
     "data": {
      "text/html": [
       "<div>\n",
       "<style scoped>\n",
       "    .dataframe tbody tr th:only-of-type {\n",
       "        vertical-align: middle;\n",
       "    }\n",
       "\n",
       "    .dataframe tbody tr th {\n",
       "        vertical-align: top;\n",
       "    }\n",
       "\n",
       "    .dataframe thead th {\n",
       "        text-align: right;\n",
       "    }\n",
       "</style>\n",
       "<table border=\"1\" class=\"dataframe\">\n",
       "  <thead>\n",
       "    <tr style=\"text-align: right;\">\n",
       "      <th></th>\n",
       "      <th>biết</th>\n",
       "      <th>bạn</th>\n",
       "      <th>chuẩn</th>\n",
       "      <th>chân</th>\n",
       "      <th>chưa</th>\n",
       "      <th>chất</th>\n",
       "      <th>chất vải</th>\n",
       "      <th>chất_lượng</th>\n",
       "      <th>chắc_chắn</th>\n",
       "      <th>cả</th>\n",
       "      <th>...</th>\n",
       "      <th>đúng mô_tả</th>\n",
       "      <th>đặt</th>\n",
       "      <th>đẹp</th>\n",
       "      <th>đẹp lắm</th>\n",
       "      <th>đồng_hồ</th>\n",
       "      <th>ưng</th>\n",
       "      <th>ảnh</th>\n",
       "      <th>ổn</th>\n",
       "      <th>ủng_hộ</th>\n",
       "      <th>ủng_hộ shop</th>\n",
       "    </tr>\n",
       "  </thead>\n",
       "  <tbody>\n",
       "    <tr>\n",
       "      <th>0</th>\n",
       "      <td>0</td>\n",
       "      <td>0</td>\n",
       "      <td>0</td>\n",
       "      <td>0</td>\n",
       "      <td>0</td>\n",
       "      <td>0</td>\n",
       "      <td>0</td>\n",
       "      <td>0</td>\n",
       "      <td>0</td>\n",
       "      <td>0</td>\n",
       "      <td>...</td>\n",
       "      <td>0</td>\n",
       "      <td>0</td>\n",
       "      <td>1</td>\n",
       "      <td>0</td>\n",
       "      <td>0</td>\n",
       "      <td>0</td>\n",
       "      <td>0</td>\n",
       "      <td>0</td>\n",
       "      <td>0</td>\n",
       "      <td>0</td>\n",
       "    </tr>\n",
       "    <tr>\n",
       "      <th>1</th>\n",
       "      <td>0</td>\n",
       "      <td>0</td>\n",
       "      <td>0</td>\n",
       "      <td>0</td>\n",
       "      <td>0</td>\n",
       "      <td>0</td>\n",
       "      <td>0</td>\n",
       "      <td>0</td>\n",
       "      <td>0</td>\n",
       "      <td>0</td>\n",
       "      <td>...</td>\n",
       "      <td>0</td>\n",
       "      <td>0</td>\n",
       "      <td>0</td>\n",
       "      <td>0</td>\n",
       "      <td>0</td>\n",
       "      <td>0</td>\n",
       "      <td>0</td>\n",
       "      <td>0</td>\n",
       "      <td>0</td>\n",
       "      <td>0</td>\n",
       "    </tr>\n",
       "    <tr>\n",
       "      <th>2</th>\n",
       "      <td>0</td>\n",
       "      <td>0</td>\n",
       "      <td>0</td>\n",
       "      <td>0</td>\n",
       "      <td>0</td>\n",
       "      <td>0</td>\n",
       "      <td>0</td>\n",
       "      <td>0</td>\n",
       "      <td>0</td>\n",
       "      <td>0</td>\n",
       "      <td>...</td>\n",
       "      <td>0</td>\n",
       "      <td>0</td>\n",
       "      <td>1</td>\n",
       "      <td>0</td>\n",
       "      <td>0</td>\n",
       "      <td>0</td>\n",
       "      <td>0</td>\n",
       "      <td>2</td>\n",
       "      <td>0</td>\n",
       "      <td>0</td>\n",
       "    </tr>\n",
       "    <tr>\n",
       "      <th>3</th>\n",
       "      <td>0</td>\n",
       "      <td>0</td>\n",
       "      <td>0</td>\n",
       "      <td>0</td>\n",
       "      <td>0</td>\n",
       "      <td>0</td>\n",
       "      <td>0</td>\n",
       "      <td>1</td>\n",
       "      <td>0</td>\n",
       "      <td>0</td>\n",
       "      <td>...</td>\n",
       "      <td>0</td>\n",
       "      <td>0</td>\n",
       "      <td>0</td>\n",
       "      <td>0</td>\n",
       "      <td>0</td>\n",
       "      <td>0</td>\n",
       "      <td>0</td>\n",
       "      <td>0</td>\n",
       "      <td>0</td>\n",
       "      <td>0</td>\n",
       "    </tr>\n",
       "    <tr>\n",
       "      <th>4</th>\n",
       "      <td>0</td>\n",
       "      <td>0</td>\n",
       "      <td>0</td>\n",
       "      <td>1</td>\n",
       "      <td>0</td>\n",
       "      <td>0</td>\n",
       "      <td>0</td>\n",
       "      <td>0</td>\n",
       "      <td>0</td>\n",
       "      <td>0</td>\n",
       "      <td>...</td>\n",
       "      <td>0</td>\n",
       "      <td>0</td>\n",
       "      <td>0</td>\n",
       "      <td>0</td>\n",
       "      <td>0</td>\n",
       "      <td>0</td>\n",
       "      <td>1</td>\n",
       "      <td>0</td>\n",
       "      <td>0</td>\n",
       "      <td>0</td>\n",
       "    </tr>\n",
       "  </tbody>\n",
       "</table>\n",
       "<p>5 rows × 117 columns</p>\n",
       "</div>"
      ],
      "text/plain": [
       "   biết  bạn  chuẩn  chân  chưa  chất  chất vải  chất_lượng  chắc_chắn  cả  \\\n",
       "0     0    0      0     0     0     0         0           0          0   0   \n",
       "1     0    0      0     0     0     0         0           0          0   0   \n",
       "2     0    0      0     0     0     0         0           0          0   0   \n",
       "3     0    0      0     0     0     0         0           1          0   0   \n",
       "4     0    0      0     1     0     0         0           0          0   0   \n",
       "\n",
       "   ...  đúng mô_tả  đặt  đẹp  đẹp lắm  đồng_hồ  ưng  ảnh  ổn  ủng_hộ  \\\n",
       "0  ...           0    0    1        0        0    0    0   0       0   \n",
       "1  ...           0    0    0        0        0    0    0   0       0   \n",
       "2  ...           0    0    1        0        0    0    0   2       0   \n",
       "3  ...           0    0    0        0        0    0    0   0       0   \n",
       "4  ...           0    0    0        0        0    0    1   0       0   \n",
       "\n",
       "   ủng_hộ shop  \n",
       "0            0  \n",
       "1            0  \n",
       "2            0  \n",
       "3            0  \n",
       "4            0  \n",
       "\n",
       "[5 rows x 117 columns]"
      ]
     },
     "execution_count": 16,
     "metadata": {},
     "output_type": "execute_result"
    }
   ],
   "source": [
    "# Bag of Words\n",
    "bow = CountVectorizer(ngram_range=(1,2),min_df=0.02)\n",
    "\n",
    "vect = bow.fit(X_train)\n",
    "X_train = bow.transform(X_train)\n",
    "\n",
    "df_bow = pd.DataFrame(data=X_train.toarray(), columns=bow.get_feature_names_out())\n",
    "df_bow.head()"
   ]
  },
  {
   "cell_type": "code",
   "execution_count": 17,
   "id": "5e4d1151-9cc6-4dcf-8e44-1482f0b15563",
   "metadata": {},
   "outputs": [],
   "source": [
    "# Cross validation\n",
    "num_folds = 5\n",
    "skf = StratifiedKFold(n_splits=num_folds, shuffle=True, random_state=42)"
   ]
  },
  {
   "cell_type": "code",
   "execution_count": null,
   "id": "89bd207f-58e5-48e3-9340-2874ee7ba0c5",
   "metadata": {},
   "outputs": [],
   "source": [
    "# Model Comparision\n",
    "models = [MultinomialNB(), LogisticRegression(multi_class='auto'), SVC()]\n",
    "results = pd.DataFrame(columns=['Model', 'Accuracy Mean', 'Accuracy STD', 'Time'])\n",
    "\n",
    "for idx, model in enumerate(models):\n",
    "    start_time = time.time()\n",
    "    cv_results = cross_val_score(model, X_train, y_train, cv=skf, scoring='accuracy')\n",
    "    train_time = time.time() - start_time\n",
    "    df_newrow = pd.DataFrame.from_dict({idx: [type(model).__name__, cv_results.mean(),  cv_results.std(), train_time]},\n",
    "                                    orient='index', columns=['Model', 'Accuracy Mean', 'Accuracy STD','Time'])\n",
    "    results = pd.concat([results, df_newrow])"
   ]
  },
  {
   "cell_type": "code",
   "execution_count": null,
   "id": "522e8738-8801-49bc-9cff-44b48727580e",
   "metadata": {},
   "outputs": [],
   "source": [
    "results = results.sort_values(by='Accuracy Mean', ascending=False).reset_index(drop=True)\n",
    "results"
   ]
  },
  {
   "cell_type": "code",
   "execution_count": null,
   "id": "f63cc6a2-c6a2-49fd-bf4f-c54cfb5fb9ce",
   "metadata": {},
   "outputs": [],
   "source": [
    "plt.figure(figsize=(10, 8))\n",
    "sns.barplot(x='Accuracy Mean', y='Model', data=results, palette='Set3')\n",
    "plt.title('Model Comparison')"
   ]
  },
  {
   "cell_type": "markdown",
   "id": "8eb5889c-83cb-4fa4-9c4c-9d7916801628",
   "metadata": {},
   "source": [
    "# TF-IDF Vectorizer"
   ]
  },
  {
   "cell_type": "code",
   "execution_count": 77,
   "id": "01159d0f-9bac-4c79-8a35-4c9ecff75a77",
   "metadata": {},
   "outputs": [
    {
     "data": {
      "text/html": [
       "<div>\n",
       "<style scoped>\n",
       "    .dataframe tbody tr th:only-of-type {\n",
       "        vertical-align: middle;\n",
       "    }\n",
       "\n",
       "    .dataframe tbody tr th {\n",
       "        vertical-align: top;\n",
       "    }\n",
       "\n",
       "    .dataframe thead th {\n",
       "        text-align: right;\n",
       "    }\n",
       "</style>\n",
       "<table border=\"1\" class=\"dataframe\">\n",
       "  <thead>\n",
       "    <tr style=\"text-align: right;\">\n",
       "      <th></th>\n",
       "      <th>biết</th>\n",
       "      <th>bạn</th>\n",
       "      <th>chuẩn</th>\n",
       "      <th>chân</th>\n",
       "      <th>chưa</th>\n",
       "      <th>chất</th>\n",
       "      <th>chất vải</th>\n",
       "      <th>chất_lượng</th>\n",
       "      <th>chắc_chắn</th>\n",
       "      <th>cả</th>\n",
       "      <th>...</th>\n",
       "      <th>đúng mô_tả</th>\n",
       "      <th>đặt</th>\n",
       "      <th>đẹp</th>\n",
       "      <th>đẹp lắm</th>\n",
       "      <th>đồng_hồ</th>\n",
       "      <th>ưng</th>\n",
       "      <th>ảnh</th>\n",
       "      <th>ổn</th>\n",
       "      <th>ủng_hộ</th>\n",
       "      <th>ủng_hộ shop</th>\n",
       "    </tr>\n",
       "  </thead>\n",
       "  <tbody>\n",
       "    <tr>\n",
       "      <th>0</th>\n",
       "      <td>0.0</td>\n",
       "      <td>0.0</td>\n",
       "      <td>0.0</td>\n",
       "      <td>0.000000</td>\n",
       "      <td>0.0</td>\n",
       "      <td>0.0</td>\n",
       "      <td>0.0</td>\n",
       "      <td>0.000000</td>\n",
       "      <td>0.0</td>\n",
       "      <td>0.0</td>\n",
       "      <td>...</td>\n",
       "      <td>0.0</td>\n",
       "      <td>0.0</td>\n",
       "      <td>0.263765</td>\n",
       "      <td>0.0</td>\n",
       "      <td>0.0</td>\n",
       "      <td>0.0</td>\n",
       "      <td>0.000000</td>\n",
       "      <td>0.000000</td>\n",
       "      <td>0.0</td>\n",
       "      <td>0.0</td>\n",
       "    </tr>\n",
       "    <tr>\n",
       "      <th>1</th>\n",
       "      <td>0.0</td>\n",
       "      <td>0.0</td>\n",
       "      <td>0.0</td>\n",
       "      <td>0.000000</td>\n",
       "      <td>0.0</td>\n",
       "      <td>0.0</td>\n",
       "      <td>0.0</td>\n",
       "      <td>0.000000</td>\n",
       "      <td>0.0</td>\n",
       "      <td>0.0</td>\n",
       "      <td>...</td>\n",
       "      <td>0.0</td>\n",
       "      <td>0.0</td>\n",
       "      <td>0.000000</td>\n",
       "      <td>0.0</td>\n",
       "      <td>0.0</td>\n",
       "      <td>0.0</td>\n",
       "      <td>0.000000</td>\n",
       "      <td>0.000000</td>\n",
       "      <td>0.0</td>\n",
       "      <td>0.0</td>\n",
       "    </tr>\n",
       "    <tr>\n",
       "      <th>2</th>\n",
       "      <td>0.0</td>\n",
       "      <td>0.0</td>\n",
       "      <td>0.0</td>\n",
       "      <td>0.000000</td>\n",
       "      <td>0.0</td>\n",
       "      <td>0.0</td>\n",
       "      <td>0.0</td>\n",
       "      <td>0.000000</td>\n",
       "      <td>0.0</td>\n",
       "      <td>0.0</td>\n",
       "      <td>...</td>\n",
       "      <td>0.0</td>\n",
       "      <td>0.0</td>\n",
       "      <td>0.194897</td>\n",
       "      <td>0.0</td>\n",
       "      <td>0.0</td>\n",
       "      <td>0.0</td>\n",
       "      <td>0.000000</td>\n",
       "      <td>0.755668</td>\n",
       "      <td>0.0</td>\n",
       "      <td>0.0</td>\n",
       "    </tr>\n",
       "    <tr>\n",
       "      <th>3</th>\n",
       "      <td>0.0</td>\n",
       "      <td>0.0</td>\n",
       "      <td>0.0</td>\n",
       "      <td>0.000000</td>\n",
       "      <td>0.0</td>\n",
       "      <td>0.0</td>\n",
       "      <td>0.0</td>\n",
       "      <td>0.228782</td>\n",
       "      <td>0.0</td>\n",
       "      <td>0.0</td>\n",
       "      <td>...</td>\n",
       "      <td>0.0</td>\n",
       "      <td>0.0</td>\n",
       "      <td>0.000000</td>\n",
       "      <td>0.0</td>\n",
       "      <td>0.0</td>\n",
       "      <td>0.0</td>\n",
       "      <td>0.000000</td>\n",
       "      <td>0.000000</td>\n",
       "      <td>0.0</td>\n",
       "      <td>0.0</td>\n",
       "    </tr>\n",
       "    <tr>\n",
       "      <th>4</th>\n",
       "      <td>0.0</td>\n",
       "      <td>0.0</td>\n",
       "      <td>0.0</td>\n",
       "      <td>0.261185</td>\n",
       "      <td>0.0</td>\n",
       "      <td>0.0</td>\n",
       "      <td>0.0</td>\n",
       "      <td>0.000000</td>\n",
       "      <td>0.0</td>\n",
       "      <td>0.0</td>\n",
       "      <td>...</td>\n",
       "      <td>0.0</td>\n",
       "      <td>0.0</td>\n",
       "      <td>0.000000</td>\n",
       "      <td>0.0</td>\n",
       "      <td>0.0</td>\n",
       "      <td>0.0</td>\n",
       "      <td>0.255817</td>\n",
       "      <td>0.000000</td>\n",
       "      <td>0.0</td>\n",
       "      <td>0.0</td>\n",
       "    </tr>\n",
       "  </tbody>\n",
       "</table>\n",
       "<p>5 rows × 117 columns</p>\n",
       "</div>"
      ],
      "text/plain": [
       "   biết  bạn  chuẩn      chân  chưa  chất  chất vải  chất_lượng  chắc_chắn  \\\n",
       "0   0.0  0.0    0.0  0.000000   0.0   0.0       0.0    0.000000        0.0   \n",
       "1   0.0  0.0    0.0  0.000000   0.0   0.0       0.0    0.000000        0.0   \n",
       "2   0.0  0.0    0.0  0.000000   0.0   0.0       0.0    0.000000        0.0   \n",
       "3   0.0  0.0    0.0  0.000000   0.0   0.0       0.0    0.228782        0.0   \n",
       "4   0.0  0.0    0.0  0.261185   0.0   0.0       0.0    0.000000        0.0   \n",
       "\n",
       "    cả  ...  đúng mô_tả  đặt       đẹp  đẹp lắm  đồng_hồ  ưng       ảnh  \\\n",
       "0  0.0  ...         0.0  0.0  0.263765      0.0      0.0  0.0  0.000000   \n",
       "1  0.0  ...         0.0  0.0  0.000000      0.0      0.0  0.0  0.000000   \n",
       "2  0.0  ...         0.0  0.0  0.194897      0.0      0.0  0.0  0.000000   \n",
       "3  0.0  ...         0.0  0.0  0.000000      0.0      0.0  0.0  0.000000   \n",
       "4  0.0  ...         0.0  0.0  0.000000      0.0      0.0  0.0  0.255817   \n",
       "\n",
       "         ổn  ủng_hộ  ủng_hộ shop  \n",
       "0  0.000000     0.0          0.0  \n",
       "1  0.000000     0.0          0.0  \n",
       "2  0.755668     0.0          0.0  \n",
       "3  0.000000     0.0          0.0  \n",
       "4  0.000000     0.0          0.0  \n",
       "\n",
       "[5 rows x 117 columns]"
      ]
     },
     "execution_count": 77,
     "metadata": {},
     "output_type": "execute_result"
    }
   ],
   "source": [
    "tfidf = TfidfVectorizer(ngram_range=(1,2),min_df=0.02)\n",
    "\n",
    "vect = tfidf.fit(X_train)\n",
    "X_train = tfidf.transform(X_train)\n",
    "\n",
    "df_tfidf = pd.DataFrame(data=X_train.toarray(), columns=tfidf.get_feature_names_out())\n",
    "df_tfidf.head()"
   ]
  },
  {
   "cell_type": "code",
   "execution_count": null,
   "id": "e424e094-a37e-4fb7-a82f-0c08483a314e",
   "metadata": {},
   "outputs": [],
   "source": [
    "# Cross validation\n",
    "num_folds = 5\n",
    "skf = StratifiedKFold(n_splits=num_folds, shuffle=True, random_state=42)"
   ]
  },
  {
   "cell_type": "code",
   "execution_count": null,
   "id": "ff0f4eef-c927-4a22-87dc-2b09be03ce60",
   "metadata": {},
   "outputs": [],
   "source": [
    "# Model Comparision\n",
    "models = [MultinomialNB(), LogisticRegression(multi_class='auto'), SVC()]\n",
    "results = pd.DataFrame(columns=['Model', 'Accuracy Mean', 'Accuracy STD', 'Time'])\n",
    "\n",
    "for idx, model in enumerate(models):\n",
    "    start_time = time.time()\n",
    "    cv_results = cross_val_score(model, X_train, y_train, cv=skf, scoring='accuracy')\n",
    "    train_time = time.time() - start_time\n",
    "    df_newrow = pd.DataFrame.from_dict({idx: [type(model).__name__, cv_results.mean(),  cv_results.std(), train_time]},\n",
    "                                    orient='index', columns=['Model', 'Accuracy Mean', 'Accuracy STD','Time'])\n",
    "    results = pd.concat([results, df_newrow])"
   ]
  },
  {
   "cell_type": "code",
   "execution_count": null,
   "id": "a4dd62cd-d91a-406c-9ce2-e52d49024607",
   "metadata": {},
   "outputs": [],
   "source": [
    "results = results.sort_values(by='Accuracy Mean', ascending=False).reset_index(drop=True)\n",
    "results"
   ]
  },
  {
   "cell_type": "code",
   "execution_count": null,
   "id": "c09110a4-5bc5-480e-907d-62abc5a81fd7",
   "metadata": {},
   "outputs": [],
   "source": [
    "plt.figure(figsize=(10, 8))\n",
    "sns.barplot(x='Accuracy Mean', y='Model', data=results, palette='Set3')\n",
    "plt.title('Model Comparison')"
   ]
  },
  {
   "cell_type": "markdown",
   "id": "0fbdd3ca-2bbd-42ca-bc6f-c22e233804de",
   "metadata": {},
   "source": [
    "# Build Model"
   ]
  },
  {
   "cell_type": "code",
   "execution_count": null,
   "id": "547ad5b5-2858-404b-83e9-47f1facc3379",
   "metadata": {},
   "outputs": [],
   "source": [
    "# Hyperparameter tuning\n",
    "model = LogisticRegression()\n",
    "solvers = ['newton-cg', 'lbfgs', 'liblinear']\n",
    "penalty = ['none', 'l1', 'l2', 'elasticnet']\n",
    "c_values = [100, 10, 1.0, 0.1, 0.01, 0.001]\n",
    "\n",
    "grid = dict(solver=solvers,penalty=penalty,C=c_values)\n",
    "\n",
    "clf_grid = GridSearchCV(estimator=model, param_grid=grid, n_jobs=-1,cv=5, scoring='accuracy', error_score=0)\n",
    "search_clf = clf_grid.fit(X_train, y_train)\n",
    "best_clf = search_clf.best_estimator_"
   ]
  },
  {
   "cell_type": "code",
   "execution_count": null,
   "id": "27c6ce68-376f-4bc6-89c4-998f57443508",
   "metadata": {},
   "outputs": [],
   "source": [
    "print('Best params:', search_clf.best_params_)"
   ]
  },
  {
   "cell_type": "code",
   "execution_count": null,
   "id": "777e90dd-0f52-4bab-9eef-17d2af3af2da",
   "metadata": {},
   "outputs": [],
   "source": [
    "# Xây dựng mô hình\n",
    "tfidf = TfidfVectorizer(ngram_range=(1,2),min_df=0.02)\n",
    "\n",
    "tfidf.fit(X_train)\n",
    "X_train = tfidf.transform(X_train)\n",
    "X_test = tfidf.transform(X_test)\n",
    "best_model = LogisticRegression(C=0.1,penalty='l2',solver='newton-cg')\n",
    "\n",
    "best_model.fit(X_train, y_train)\n",
    "y_pred = best_model.predict(X_test)"
   ]
  },
  {
   "cell_type": "code",
   "execution_count": null,
   "id": "9369ee08-d013-4df8-b77a-b340612b4545",
   "metadata": {},
   "outputs": [],
   "source": [
    "# Ma trận đánh giá\n",
    "accuracy_train = round(best_model.score(X_train, y_train) * 100, 3)\n",
    "accuracy_test = round(best_model.score(X_test, y_test) * 100, 3)\n",
    "print('Accuracy score on the training data: ', accuracy_train)\n",
    "print('Accuracy score on the test data: ', accuracy_test)"
   ]
  },
  {
   "cell_type": "code",
   "execution_count": null,
   "id": "44704d43-7e3f-4489-b43c-7e73bd9e37d5",
   "metadata": {},
   "outputs": [],
   "source": [
    "print(classification_report(y_test,y_pred))\n",
    "ConfusionMatrixDisplay.from_predictions(y_test,y_pred);"
   ]
  },
  {
   "cell_type": "code",
   "execution_count": null,
   "id": "18877cdc-1d9e-494b-bcad-89f362921892",
   "metadata": {},
   "outputs": [],
   "source": [
    "pkl_filename = \"sentiment_bestmodel.pkl\"\n",
    "with open(pkl_filename, 'wb') as file:\n",
    "    pickle.dump(best_model, file)"
   ]
  }
 ],
 "metadata": {
  "kernelspec": {
   "display_name": "Python 3 (ipykernel)",
   "language": "python",
   "name": "python3"
  },
  "language_info": {
   "codemirror_mode": {
    "name": "ipython",
    "version": 3
   },
   "file_extension": ".py",
   "mimetype": "text/x-python",
   "name": "python",
   "nbconvert_exporter": "python",
   "pygments_lexer": "ipython3",
   "version": "3.11.7"
  }
 },
 "nbformat": 4,
 "nbformat_minor": 5
}
